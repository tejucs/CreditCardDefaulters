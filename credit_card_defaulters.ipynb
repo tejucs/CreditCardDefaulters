{
 "cells": [
  {
   "cell_type": "markdown",
   "id": "c346f53b",
   "metadata": {},
   "source": [
    "# Credit Card Defaulters"
   ]
  },
  {
   "cell_type": "code",
   "execution_count": 1,
   "id": "bd9b5632",
   "metadata": {},
   "outputs": [],
   "source": [
    "### importing required dependencies\n",
    "\n",
    "import pandas as pd\n",
    "import numpy as np\n",
    "import matplotlib.pyplot as plt\n",
    "import seaborn as sns\n"
   ]
  },
  {
   "cell_type": "code",
   "execution_count": 2,
   "id": "74079c99",
   "metadata": {},
   "outputs": [],
   "source": [
    "### importing the data \n",
    "\n",
    "data=pd.read_csv('E:/dat/creditcard.csv')"
   ]
  },
  {
   "cell_type": "code",
   "execution_count": 3,
   "id": "46974041",
   "metadata": {
    "scrolled": true
   },
   "outputs": [
    {
     "data": {
      "text/html": [
       "<div>\n",
       "<style scoped>\n",
       "    .dataframe tbody tr th:only-of-type {\n",
       "        vertical-align: middle;\n",
       "    }\n",
       "\n",
       "    .dataframe tbody tr th {\n",
       "        vertical-align: top;\n",
       "    }\n",
       "\n",
       "    .dataframe thead th {\n",
       "        text-align: right;\n",
       "    }\n",
       "</style>\n",
       "<table border=\"1\" class=\"dataframe\">\n",
       "  <thead>\n",
       "    <tr style=\"text-align: right;\">\n",
       "      <th></th>\n",
       "      <th>Time</th>\n",
       "      <th>V1</th>\n",
       "      <th>V2</th>\n",
       "      <th>V3</th>\n",
       "      <th>V4</th>\n",
       "      <th>V5</th>\n",
       "      <th>V6</th>\n",
       "      <th>V7</th>\n",
       "      <th>V8</th>\n",
       "      <th>V9</th>\n",
       "      <th>...</th>\n",
       "      <th>V21</th>\n",
       "      <th>V22</th>\n",
       "      <th>V23</th>\n",
       "      <th>V24</th>\n",
       "      <th>V25</th>\n",
       "      <th>V26</th>\n",
       "      <th>V27</th>\n",
       "      <th>V28</th>\n",
       "      <th>Amount</th>\n",
       "      <th>Class</th>\n",
       "    </tr>\n",
       "  </thead>\n",
       "  <tbody>\n",
       "    <tr>\n",
       "      <th>0</th>\n",
       "      <td>0.0</td>\n",
       "      <td>-1.359807</td>\n",
       "      <td>-0.072781</td>\n",
       "      <td>2.536347</td>\n",
       "      <td>1.378155</td>\n",
       "      <td>-0.338321</td>\n",
       "      <td>0.462388</td>\n",
       "      <td>0.239599</td>\n",
       "      <td>0.098698</td>\n",
       "      <td>0.363787</td>\n",
       "      <td>...</td>\n",
       "      <td>-0.018307</td>\n",
       "      <td>0.277838</td>\n",
       "      <td>-0.110474</td>\n",
       "      <td>0.066928</td>\n",
       "      <td>0.128539</td>\n",
       "      <td>-0.189115</td>\n",
       "      <td>0.133558</td>\n",
       "      <td>-0.021053</td>\n",
       "      <td>149.62</td>\n",
       "      <td>0</td>\n",
       "    </tr>\n",
       "    <tr>\n",
       "      <th>1</th>\n",
       "      <td>0.0</td>\n",
       "      <td>1.191857</td>\n",
       "      <td>0.266151</td>\n",
       "      <td>0.166480</td>\n",
       "      <td>0.448154</td>\n",
       "      <td>0.060018</td>\n",
       "      <td>-0.082361</td>\n",
       "      <td>-0.078803</td>\n",
       "      <td>0.085102</td>\n",
       "      <td>-0.255425</td>\n",
       "      <td>...</td>\n",
       "      <td>-0.225775</td>\n",
       "      <td>-0.638672</td>\n",
       "      <td>0.101288</td>\n",
       "      <td>-0.339846</td>\n",
       "      <td>0.167170</td>\n",
       "      <td>0.125895</td>\n",
       "      <td>-0.008983</td>\n",
       "      <td>0.014724</td>\n",
       "      <td>2.69</td>\n",
       "      <td>0</td>\n",
       "    </tr>\n",
       "    <tr>\n",
       "      <th>2</th>\n",
       "      <td>1.0</td>\n",
       "      <td>-1.358354</td>\n",
       "      <td>-1.340163</td>\n",
       "      <td>1.773209</td>\n",
       "      <td>0.379780</td>\n",
       "      <td>-0.503198</td>\n",
       "      <td>1.800499</td>\n",
       "      <td>0.791461</td>\n",
       "      <td>0.247676</td>\n",
       "      <td>-1.514654</td>\n",
       "      <td>...</td>\n",
       "      <td>0.247998</td>\n",
       "      <td>0.771679</td>\n",
       "      <td>0.909412</td>\n",
       "      <td>-0.689281</td>\n",
       "      <td>-0.327642</td>\n",
       "      <td>-0.139097</td>\n",
       "      <td>-0.055353</td>\n",
       "      <td>-0.059752</td>\n",
       "      <td>378.66</td>\n",
       "      <td>0</td>\n",
       "    </tr>\n",
       "    <tr>\n",
       "      <th>3</th>\n",
       "      <td>1.0</td>\n",
       "      <td>-0.966272</td>\n",
       "      <td>-0.185226</td>\n",
       "      <td>1.792993</td>\n",
       "      <td>-0.863291</td>\n",
       "      <td>-0.010309</td>\n",
       "      <td>1.247203</td>\n",
       "      <td>0.237609</td>\n",
       "      <td>0.377436</td>\n",
       "      <td>-1.387024</td>\n",
       "      <td>...</td>\n",
       "      <td>-0.108300</td>\n",
       "      <td>0.005274</td>\n",
       "      <td>-0.190321</td>\n",
       "      <td>-1.175575</td>\n",
       "      <td>0.647376</td>\n",
       "      <td>-0.221929</td>\n",
       "      <td>0.062723</td>\n",
       "      <td>0.061458</td>\n",
       "      <td>123.50</td>\n",
       "      <td>0</td>\n",
       "    </tr>\n",
       "    <tr>\n",
       "      <th>4</th>\n",
       "      <td>2.0</td>\n",
       "      <td>-1.158233</td>\n",
       "      <td>0.877737</td>\n",
       "      <td>1.548718</td>\n",
       "      <td>0.403034</td>\n",
       "      <td>-0.407193</td>\n",
       "      <td>0.095921</td>\n",
       "      <td>0.592941</td>\n",
       "      <td>-0.270533</td>\n",
       "      <td>0.817739</td>\n",
       "      <td>...</td>\n",
       "      <td>-0.009431</td>\n",
       "      <td>0.798278</td>\n",
       "      <td>-0.137458</td>\n",
       "      <td>0.141267</td>\n",
       "      <td>-0.206010</td>\n",
       "      <td>0.502292</td>\n",
       "      <td>0.219422</td>\n",
       "      <td>0.215153</td>\n",
       "      <td>69.99</td>\n",
       "      <td>0</td>\n",
       "    </tr>\n",
       "  </tbody>\n",
       "</table>\n",
       "<p>5 rows × 31 columns</p>\n",
       "</div>"
      ],
      "text/plain": [
       "   Time        V1        V2        V3        V4        V5        V6        V7  \\\n",
       "0   0.0 -1.359807 -0.072781  2.536347  1.378155 -0.338321  0.462388  0.239599   \n",
       "1   0.0  1.191857  0.266151  0.166480  0.448154  0.060018 -0.082361 -0.078803   \n",
       "2   1.0 -1.358354 -1.340163  1.773209  0.379780 -0.503198  1.800499  0.791461   \n",
       "3   1.0 -0.966272 -0.185226  1.792993 -0.863291 -0.010309  1.247203  0.237609   \n",
       "4   2.0 -1.158233  0.877737  1.548718  0.403034 -0.407193  0.095921  0.592941   \n",
       "\n",
       "         V8        V9  ...       V21       V22       V23       V24       V25  \\\n",
       "0  0.098698  0.363787  ... -0.018307  0.277838 -0.110474  0.066928  0.128539   \n",
       "1  0.085102 -0.255425  ... -0.225775 -0.638672  0.101288 -0.339846  0.167170   \n",
       "2  0.247676 -1.514654  ...  0.247998  0.771679  0.909412 -0.689281 -0.327642   \n",
       "3  0.377436 -1.387024  ... -0.108300  0.005274 -0.190321 -1.175575  0.647376   \n",
       "4 -0.270533  0.817739  ... -0.009431  0.798278 -0.137458  0.141267 -0.206010   \n",
       "\n",
       "        V26       V27       V28  Amount  Class  \n",
       "0 -0.189115  0.133558 -0.021053  149.62      0  \n",
       "1  0.125895 -0.008983  0.014724    2.69      0  \n",
       "2 -0.139097 -0.055353 -0.059752  378.66      0  \n",
       "3 -0.221929  0.062723  0.061458  123.50      0  \n",
       "4  0.502292  0.219422  0.215153   69.99      0  \n",
       "\n",
       "[5 rows x 31 columns]"
      ]
     },
     "execution_count": 3,
     "metadata": {},
     "output_type": "execute_result"
    }
   ],
   "source": [
    "### reading first 5 rows data\n",
    "\n",
    "data.head()"
   ]
  },
  {
   "cell_type": "code",
   "execution_count": 4,
   "id": "0296561e",
   "metadata": {},
   "outputs": [
    {
     "name": "stdout",
     "output_type": "stream",
     "text": [
      "<class 'pandas.core.frame.DataFrame'>\n",
      "RangeIndex: 284807 entries, 0 to 284806\n",
      "Data columns (total 31 columns):\n",
      " #   Column  Non-Null Count   Dtype  \n",
      "---  ------  --------------   -----  \n",
      " 0   Time    284807 non-null  float64\n",
      " 1   V1      284807 non-null  float64\n",
      " 2   V2      284807 non-null  float64\n",
      " 3   V3      284807 non-null  float64\n",
      " 4   V4      284807 non-null  float64\n",
      " 5   V5      284807 non-null  float64\n",
      " 6   V6      284807 non-null  float64\n",
      " 7   V7      284807 non-null  float64\n",
      " 8   V8      284807 non-null  float64\n",
      " 9   V9      284807 non-null  float64\n",
      " 10  V10     284807 non-null  float64\n",
      " 11  V11     284807 non-null  float64\n",
      " 12  V12     284807 non-null  float64\n",
      " 13  V13     284807 non-null  float64\n",
      " 14  V14     284807 non-null  float64\n",
      " 15  V15     284807 non-null  float64\n",
      " 16  V16     284807 non-null  float64\n",
      " 17  V17     284807 non-null  float64\n",
      " 18  V18     284807 non-null  float64\n",
      " 19  V19     284807 non-null  float64\n",
      " 20  V20     284807 non-null  float64\n",
      " 21  V21     284807 non-null  float64\n",
      " 22  V22     284807 non-null  float64\n",
      " 23  V23     284807 non-null  float64\n",
      " 24  V24     284807 non-null  float64\n",
      " 25  V25     284807 non-null  float64\n",
      " 26  V26     284807 non-null  float64\n",
      " 27  V27     284807 non-null  float64\n",
      " 28  V28     284807 non-null  float64\n",
      " 29  Amount  284807 non-null  float64\n",
      " 30  Class   284807 non-null  int64  \n",
      "dtypes: float64(30), int64(1)\n",
      "memory usage: 67.4 MB\n"
     ]
    }
   ],
   "source": [
    "### Information of data\n",
    "data.info()"
   ]
  },
  {
   "cell_type": "code",
   "execution_count": 5,
   "id": "4ef8baac",
   "metadata": {},
   "outputs": [
    {
     "data": {
      "text/plain": [
       "Time      0\n",
       "V1        0\n",
       "V2        0\n",
       "V3        0\n",
       "V4        0\n",
       "V5        0\n",
       "V6        0\n",
       "V7        0\n",
       "V8        0\n",
       "V9        0\n",
       "V10       0\n",
       "V11       0\n",
       "V12       0\n",
       "V13       0\n",
       "V14       0\n",
       "V15       0\n",
       "V16       0\n",
       "V17       0\n",
       "V18       0\n",
       "V19       0\n",
       "V20       0\n",
       "V21       0\n",
       "V22       0\n",
       "V23       0\n",
       "V24       0\n",
       "V25       0\n",
       "V26       0\n",
       "V27       0\n",
       "V28       0\n",
       "Amount    0\n",
       "Class     0\n",
       "dtype: int64"
      ]
     },
     "execution_count": 5,
     "metadata": {},
     "output_type": "execute_result"
    }
   ],
   "source": [
    "### Checking any NaN values in dataset\n",
    "\n",
    "data.isnull().sum()"
   ]
  },
  {
   "cell_type": "code",
   "execution_count": 6,
   "id": "f8548c15",
   "metadata": {
    "scrolled": true
   },
   "outputs": [
    {
     "data": {
      "text/plain": [
       "0    284315\n",
       "1       492\n",
       "Name: Class, dtype: int64"
      ]
     },
     "execution_count": 6,
     "metadata": {},
     "output_type": "execute_result"
    }
   ],
   "source": [
    "### Distribution of trasaction\n",
    "\n",
    "data['Class'].value_counts()"
   ]
  },
  {
   "cell_type": "code",
   "execution_count": 7,
   "id": "d30e794d",
   "metadata": {
    "scrolled": false
   },
   "outputs": [
    {
     "data": {
      "text/plain": [
       "Text(0, 0.5, 'Frequency')"
      ]
     },
     "execution_count": 7,
     "metadata": {},
     "output_type": "execute_result"
    },
    {
     "data": {
      "image/png": "[encoded data removed]",
      "text/plain": [
       "<Figure size 432x288 with 1 Axes>"
      ]
     },
     "metadata": {
      "needs_background": "light"
     },
     "output_type": "display_data"
    }
   ],
   "source": [
    "### visualise the transaction distribution\n",
    "\n",
    "count_classes=pd.value_counts(data['Class'],sort=True)\n",
    "count_classes.plot(kind='bar',rot=0)\n",
    "plt.title('transaction class distribution')\n",
    "plt.xticks(range(2),('Legit','Fraud'))\n",
    "plt.xlabel('Class')\n",
    "plt.ylabel('Frequency')"
   ]
  },
  {
   "cell_type": "code",
   "execution_count": 8,
   "id": "79b4c55c",
   "metadata": {},
   "outputs": [
    {
     "data": {
      "text/plain": [
       "<Figure size 432x288 with 0 Axes>"
      ]
     },
     "metadata": {},
     "output_type": "display_data"
    }
   ],
   "source": [
    "plt.savefig('Distribution of transaction.png', dpi=150)"
   ]
  },
  {
   "cell_type": "markdown",
   "id": "03ac9899",
   "metadata": {},
   "source": [
    "## From this we can say the dataset is highly imbalanced\n",
    "\n",
    "0 --->  Normal trasaction or Legit\n",
    "\n",
    "1 --->  Fraudulent"
   ]
  },
  {
   "cell_type": "code",
   "execution_count": 9,
   "id": "b1f8f065",
   "metadata": {},
   "outputs": [],
   "source": [
    "### Storing the legit and fraudulent transaction separately\n",
    "\n",
    "legit=data[data.Class==0]\n",
    "fraudulent=data[data.Class==1]\n",
    "\n"
   ]
  },
  {
   "cell_type": "code",
   "execution_count": 10,
   "id": "a292bc81",
   "metadata": {},
   "outputs": [
    {
     "name": "stdout",
     "output_type": "stream",
     "text": [
      "(284315, 31)\n",
      "(492, 31)\n"
     ]
    }
   ],
   "source": [
    "## getting the shape of legit and fraudulent\n",
    "\n",
    "print(legit.shape)\n",
    "print(fraudulent.shape)"
   ]
  },
  {
   "cell_type": "code",
   "execution_count": 11,
   "id": "22a58f40",
   "metadata": {},
   "outputs": [
    {
     "data": {
      "text/plain": [
       "count    284315.000000\n",
       "mean         88.291022\n",
       "std         250.105092\n",
       "min           0.000000\n",
       "25%           5.650000\n",
       "50%          22.000000\n",
       "75%          77.050000\n",
       "max       25691.160000\n",
       "Name: Amount, dtype: float64"
      ]
     },
     "execution_count": 11,
     "metadata": {},
     "output_type": "execute_result"
    }
   ],
   "source": [
    "# statiscal measures of the data\n",
    "\n",
    "legit.Amount.describe()"
   ]
  },
  {
   "cell_type": "code",
   "execution_count": 12,
   "id": "474785a6",
   "metadata": {
    "scrolled": true
   },
   "outputs": [
    {
     "data": {
      "text/plain": [
       "count     492.000000\n",
       "mean      122.211321\n",
       "std       256.683288\n",
       "min         0.000000\n",
       "25%         1.000000\n",
       "50%         9.250000\n",
       "75%       105.890000\n",
       "max      2125.870000\n",
       "Name: Amount, dtype: float64"
      ]
     },
     "execution_count": 12,
     "metadata": {},
     "output_type": "execute_result"
    }
   ],
   "source": [
    "fraudulent.Amount.describe()"
   ]
  },
  {
   "cell_type": "code",
   "execution_count": 13,
   "id": "647036e2",
   "metadata": {},
   "outputs": [
    {
     "data": {
      "text/html": [
       "<div>\n",
       "<style scoped>\n",
       "    .dataframe tbody tr th:only-of-type {\n",
       "        vertical-align: middle;\n",
       "    }\n",
       "\n",
       "    .dataframe tbody tr th {\n",
       "        vertical-align: top;\n",
       "    }\n",
       "\n",
       "    .dataframe thead th {\n",
       "        text-align: right;\n",
       "    }\n",
       "</style>\n",
       "<table border=\"1\" class=\"dataframe\">\n",
       "  <thead>\n",
       "    <tr style=\"text-align: right;\">\n",
       "      <th></th>\n",
       "      <th>Time</th>\n",
       "      <th>V1</th>\n",
       "      <th>V2</th>\n",
       "      <th>V3</th>\n",
       "      <th>V4</th>\n",
       "      <th>V5</th>\n",
       "      <th>V6</th>\n",
       "      <th>V7</th>\n",
       "      <th>V8</th>\n",
       "      <th>V9</th>\n",
       "      <th>...</th>\n",
       "      <th>V20</th>\n",
       "      <th>V21</th>\n",
       "      <th>V22</th>\n",
       "      <th>V23</th>\n",
       "      <th>V24</th>\n",
       "      <th>V25</th>\n",
       "      <th>V26</th>\n",
       "      <th>V27</th>\n",
       "      <th>V28</th>\n",
       "      <th>Amount</th>\n",
       "    </tr>\n",
       "    <tr>\n",
       "      <th>Class</th>\n",
       "      <th></th>\n",
       "      <th></th>\n",
       "      <th></th>\n",
       "      <th></th>\n",
       "      <th></th>\n",
       "      <th></th>\n",
       "      <th></th>\n",
       "      <th></th>\n",
       "      <th></th>\n",
       "      <th></th>\n",
       "      <th></th>\n",
       "      <th></th>\n",
       "      <th></th>\n",
       "      <th></th>\n",
       "      <th></th>\n",
       "      <th></th>\n",
       "      <th></th>\n",
       "      <th></th>\n",
       "      <th></th>\n",
       "      <th></th>\n",
       "      <th></th>\n",
       "    </tr>\n",
       "  </thead>\n",
       "  <tbody>\n",
       "    <tr>\n",
       "      <th>0</th>\n",
       "      <td>94838.202258</td>\n",
       "      <td>0.008258</td>\n",
       "      <td>-0.006271</td>\n",
       "      <td>0.012171</td>\n",
       "      <td>-0.007860</td>\n",
       "      <td>0.005453</td>\n",
       "      <td>0.002419</td>\n",
       "      <td>0.009637</td>\n",
       "      <td>-0.000987</td>\n",
       "      <td>0.004467</td>\n",
       "      <td>...</td>\n",
       "      <td>-0.000644</td>\n",
       "      <td>-0.001235</td>\n",
       "      <td>-0.000024</td>\n",
       "      <td>0.000070</td>\n",
       "      <td>0.000182</td>\n",
       "      <td>-0.000072</td>\n",
       "      <td>-0.000089</td>\n",
       "      <td>-0.000295</td>\n",
       "      <td>-0.000131</td>\n",
       "      <td>88.291022</td>\n",
       "    </tr>\n",
       "    <tr>\n",
       "      <th>1</th>\n",
       "      <td>80746.806911</td>\n",
       "      <td>-4.771948</td>\n",
       "      <td>3.623778</td>\n",
       "      <td>-7.033281</td>\n",
       "      <td>4.542029</td>\n",
       "      <td>-3.151225</td>\n",
       "      <td>-1.397737</td>\n",
       "      <td>-5.568731</td>\n",
       "      <td>0.570636</td>\n",
       "      <td>-2.581123</td>\n",
       "      <td>...</td>\n",
       "      <td>0.372319</td>\n",
       "      <td>0.713588</td>\n",
       "      <td>0.014049</td>\n",
       "      <td>-0.040308</td>\n",
       "      <td>-0.105130</td>\n",
       "      <td>0.041449</td>\n",
       "      <td>0.051648</td>\n",
       "      <td>0.170575</td>\n",
       "      <td>0.075667</td>\n",
       "      <td>122.211321</td>\n",
       "    </tr>\n",
       "  </tbody>\n",
       "</table>\n",
       "<p>2 rows × 30 columns</p>\n",
       "</div>"
      ],
      "text/plain": [
       "               Time        V1        V2        V3        V4        V5  \\\n",
       "Class                                                                   \n",
       "0      94838.202258  0.008258 -0.006271  0.012171 -0.007860  0.005453   \n",
       "1      80746.806911 -4.771948  3.623778 -7.033281  4.542029 -3.151225   \n",
       "\n",
       "             V6        V7        V8        V9  ...       V20       V21  \\\n",
       "Class                                          ...                       \n",
       "0      0.002419  0.009637 -0.000987  0.004467  ... -0.000644 -0.001235   \n",
       "1     -1.397737 -5.568731  0.570636 -2.581123  ...  0.372319  0.713588   \n",
       "\n",
       "            V22       V23       V24       V25       V26       V27       V28  \\\n",
       "Class                                                                         \n",
       "0     -0.000024  0.000070  0.000182 -0.000072 -0.000089 -0.000295 -0.000131   \n",
       "1      0.014049 -0.040308 -0.105130  0.041449  0.051648  0.170575  0.075667   \n",
       "\n",
       "           Amount  \n",
       "Class              \n",
       "0       88.291022  \n",
       "1      122.211321  \n",
       "\n",
       "[2 rows x 30 columns]"
      ]
     },
     "execution_count": 13,
     "metadata": {},
     "output_type": "execute_result"
    }
   ],
   "source": [
    "### compare the values b/w the transaction\n",
    "\n",
    "data.groupby('Class').mean()"
   ]
  },
  {
   "cell_type": "markdown",
   "id": "80882137",
   "metadata": {},
   "source": [
    "# Under Sampling\n",
    "\n",
    "\n",
    "\n",
    "\n",
    "\n",
    "Build a sample dataset containing similar distribution of legit and fraudulent\n",
    "\n",
    "\n",
    "Number of Fraudulent -----> 492"
   ]
  },
  {
   "cell_type": "code",
   "execution_count": 14,
   "id": "9c5acb83",
   "metadata": {},
   "outputs": [
    {
     "data": {
      "text/html": [
       "<div>\n",
       "<style scoped>\n",
       "    .dataframe tbody tr th:only-of-type {\n",
       "        vertical-align: middle;\n",
       "    }\n",
       "\n",
       "    .dataframe tbody tr th {\n",
       "        vertical-align: top;\n",
       "    }\n",
       "\n",
       "    .dataframe thead th {\n",
       "        text-align: right;\n",
       "    }\n",
       "</style>\n",
       "<table border=\"1\" class=\"dataframe\">\n",
       "  <thead>\n",
       "    <tr style=\"text-align: right;\">\n",
       "      <th></th>\n",
       "      <th>Time</th>\n",
       "      <th>V1</th>\n",
       "      <th>V2</th>\n",
       "      <th>V3</th>\n",
       "      <th>V4</th>\n",
       "      <th>V5</th>\n",
       "      <th>V6</th>\n",
       "      <th>V7</th>\n",
       "      <th>V8</th>\n",
       "      <th>V9</th>\n",
       "      <th>...</th>\n",
       "      <th>V21</th>\n",
       "      <th>V22</th>\n",
       "      <th>V23</th>\n",
       "      <th>V24</th>\n",
       "      <th>V25</th>\n",
       "      <th>V26</th>\n",
       "      <th>V27</th>\n",
       "      <th>V28</th>\n",
       "      <th>Amount</th>\n",
       "      <th>Class</th>\n",
       "    </tr>\n",
       "  </thead>\n",
       "  <tbody>\n",
       "    <tr>\n",
       "      <th>187818</th>\n",
       "      <td>127705.0</td>\n",
       "      <td>-0.222922</td>\n",
       "      <td>0.992796</td>\n",
       "      <td>-0.339625</td>\n",
       "      <td>3.224431</td>\n",
       "      <td>2.508282</td>\n",
       "      <td>0.056531</td>\n",
       "      <td>0.960217</td>\n",
       "      <td>0.016419</td>\n",
       "      <td>-2.566929</td>\n",
       "      <td>...</td>\n",
       "      <td>0.294541</td>\n",
       "      <td>0.576026</td>\n",
       "      <td>-0.168173</td>\n",
       "      <td>0.210260</td>\n",
       "      <td>0.029239</td>\n",
       "      <td>0.227953</td>\n",
       "      <td>0.004877</td>\n",
       "      <td>0.059981</td>\n",
       "      <td>0.76</td>\n",
       "      <td>0</td>\n",
       "    </tr>\n",
       "    <tr>\n",
       "      <th>221534</th>\n",
       "      <td>142600.0</td>\n",
       "      <td>-0.203604</td>\n",
       "      <td>0.583234</td>\n",
       "      <td>-2.842137</td>\n",
       "      <td>-0.504167</td>\n",
       "      <td>0.829264</td>\n",
       "      <td>-0.752890</td>\n",
       "      <td>2.164886</td>\n",
       "      <td>-0.051979</td>\n",
       "      <td>-0.528277</td>\n",
       "      <td>...</td>\n",
       "      <td>0.576030</td>\n",
       "      <td>1.344143</td>\n",
       "      <td>0.479941</td>\n",
       "      <td>0.061963</td>\n",
       "      <td>-0.973607</td>\n",
       "      <td>0.397206</td>\n",
       "      <td>0.283271</td>\n",
       "      <td>0.334392</td>\n",
       "      <td>240.16</td>\n",
       "      <td>0</td>\n",
       "    </tr>\n",
       "    <tr>\n",
       "      <th>228124</th>\n",
       "      <td>145367.0</td>\n",
       "      <td>-0.883057</td>\n",
       "      <td>0.010202</td>\n",
       "      <td>1.271981</td>\n",
       "      <td>-1.115747</td>\n",
       "      <td>-0.515749</td>\n",
       "      <td>-0.412280</td>\n",
       "      <td>1.476644</td>\n",
       "      <td>-0.141633</td>\n",
       "      <td>0.178529</td>\n",
       "      <td>...</td>\n",
       "      <td>-0.023568</td>\n",
       "      <td>-0.443962</td>\n",
       "      <td>0.507966</td>\n",
       "      <td>-0.000979</td>\n",
       "      <td>-0.284100</td>\n",
       "      <td>-0.436244</td>\n",
       "      <td>0.036449</td>\n",
       "      <td>0.165877</td>\n",
       "      <td>238.05</td>\n",
       "      <td>0</td>\n",
       "    </tr>\n",
       "    <tr>\n",
       "      <th>31011</th>\n",
       "      <td>36174.0</td>\n",
       "      <td>1.336706</td>\n",
       "      <td>0.682405</td>\n",
       "      <td>-0.904426</td>\n",
       "      <td>0.670246</td>\n",
       "      <td>0.578866</td>\n",
       "      <td>-0.962794</td>\n",
       "      <td>0.437919</td>\n",
       "      <td>-0.302229</td>\n",
       "      <td>-0.210301</td>\n",
       "      <td>...</td>\n",
       "      <td>-0.201424</td>\n",
       "      <td>-0.485807</td>\n",
       "      <td>-0.195026</td>\n",
       "      <td>-0.548756</td>\n",
       "      <td>0.705153</td>\n",
       "      <td>0.418692</td>\n",
       "      <td>-0.027439</td>\n",
       "      <td>0.035798</td>\n",
       "      <td>0.76</td>\n",
       "      <td>0</td>\n",
       "    </tr>\n",
       "    <tr>\n",
       "      <th>275457</th>\n",
       "      <td>166542.0</td>\n",
       "      <td>-0.089938</td>\n",
       "      <td>0.511432</td>\n",
       "      <td>0.883198</td>\n",
       "      <td>-0.647320</td>\n",
       "      <td>-0.296266</td>\n",
       "      <td>-0.421553</td>\n",
       "      <td>0.408877</td>\n",
       "      <td>-0.038751</td>\n",
       "      <td>0.519104</td>\n",
       "      <td>...</td>\n",
       "      <td>-0.158415</td>\n",
       "      <td>-0.554058</td>\n",
       "      <td>0.296128</td>\n",
       "      <td>1.117239</td>\n",
       "      <td>-0.927755</td>\n",
       "      <td>0.077088</td>\n",
       "      <td>-0.260669</td>\n",
       "      <td>0.018302</td>\n",
       "      <td>41.93</td>\n",
       "      <td>0</td>\n",
       "    </tr>\n",
       "  </tbody>\n",
       "</table>\n",
       "<p>5 rows × 31 columns</p>\n",
       "</div>"
      ],
      "text/plain": [
       "            Time        V1        V2        V3        V4        V5        V6  \\\n",
       "187818  127705.0 -0.222922  0.992796 -0.339625  3.224431  2.508282  0.056531   \n",
       "221534  142600.0 -0.203604  0.583234 -2.842137 -0.504167  0.829264 -0.752890   \n",
       "228124  145367.0 -0.883057  0.010202  1.271981 -1.115747 -0.515749 -0.412280   \n",
       "31011    36174.0  1.336706  0.682405 -0.904426  0.670246  0.578866 -0.962794   \n",
       "275457  166542.0 -0.089938  0.511432  0.883198 -0.647320 -0.296266 -0.421553   \n",
       "\n",
       "              V7        V8        V9  ...       V21       V22       V23  \\\n",
       "187818  0.960217  0.016419 -2.566929  ...  0.294541  0.576026 -0.168173   \n",
       "221534  2.164886 -0.051979 -0.528277  ...  0.576030  1.344143  0.479941   \n",
       "228124  1.476644 -0.141633  0.178529  ... -0.023568 -0.443962  0.507966   \n",
       "31011   0.437919 -0.302229 -0.210301  ... -0.201424 -0.485807 -0.195026   \n",
       "275457  0.408877 -0.038751  0.519104  ... -0.158415 -0.554058  0.296128   \n",
       "\n",
       "             V24       V25       V26       V27       V28  Amount  Class  \n",
       "187818  0.210260  0.029239  0.227953  0.004877  0.059981    0.76      0  \n",
       "221534  0.061963 -0.973607  0.397206  0.283271  0.334392  240.16      0  \n",
       "228124 -0.000979 -0.284100 -0.436244  0.036449  0.165877  238.05      0  \n",
       "31011  -0.548756  0.705153  0.418692 -0.027439  0.035798    0.76      0  \n",
       "275457  1.117239 -0.927755  0.077088 -0.260669  0.018302   41.93      0  \n",
       "\n",
       "[5 rows x 31 columns]"
      ]
     },
     "execution_count": 14,
     "metadata": {},
     "output_type": "execute_result"
    }
   ],
   "source": [
    "## Return a random sample of items from an axis of object\n",
    "\n",
    "legit_sample=legit.sample(n=492)\n",
    "legit_sample.head()"
   ]
  },
  {
   "cell_type": "code",
   "execution_count": 15,
   "id": "dd371c8b",
   "metadata": {},
   "outputs": [
    {
     "data": {
      "text/html": [
       "<div>\n",
       "<style scoped>\n",
       "    .dataframe tbody tr th:only-of-type {\n",
       "        vertical-align: middle;\n",
       "    }\n",
       "\n",
       "    .dataframe tbody tr th {\n",
       "        vertical-align: top;\n",
       "    }\n",
       "\n",
       "    .dataframe thead th {\n",
       "        text-align: right;\n",
       "    }\n",
       "</style>\n",
       "<table border=\"1\" class=\"dataframe\">\n",
       "  <thead>\n",
       "    <tr style=\"text-align: right;\">\n",
       "      <th></th>\n",
       "      <th>Time</th>\n",
       "      <th>V1</th>\n",
       "      <th>V2</th>\n",
       "      <th>V3</th>\n",
       "      <th>V4</th>\n",
       "      <th>V5</th>\n",
       "      <th>V6</th>\n",
       "      <th>V7</th>\n",
       "      <th>V8</th>\n",
       "      <th>V9</th>\n",
       "      <th>...</th>\n",
       "      <th>V21</th>\n",
       "      <th>V22</th>\n",
       "      <th>V23</th>\n",
       "      <th>V24</th>\n",
       "      <th>V25</th>\n",
       "      <th>V26</th>\n",
       "      <th>V27</th>\n",
       "      <th>V28</th>\n",
       "      <th>Amount</th>\n",
       "      <th>Class</th>\n",
       "    </tr>\n",
       "  </thead>\n",
       "  <tbody>\n",
       "    <tr>\n",
       "      <th>187818</th>\n",
       "      <td>127705.0</td>\n",
       "      <td>-0.222922</td>\n",
       "      <td>0.992796</td>\n",
       "      <td>-0.339625</td>\n",
       "      <td>3.224431</td>\n",
       "      <td>2.508282</td>\n",
       "      <td>0.056531</td>\n",
       "      <td>0.960217</td>\n",
       "      <td>0.016419</td>\n",
       "      <td>-2.566929</td>\n",
       "      <td>...</td>\n",
       "      <td>0.294541</td>\n",
       "      <td>0.576026</td>\n",
       "      <td>-0.168173</td>\n",
       "      <td>0.210260</td>\n",
       "      <td>0.029239</td>\n",
       "      <td>0.227953</td>\n",
       "      <td>0.004877</td>\n",
       "      <td>0.059981</td>\n",
       "      <td>0.76</td>\n",
       "      <td>0</td>\n",
       "    </tr>\n",
       "    <tr>\n",
       "      <th>221534</th>\n",
       "      <td>142600.0</td>\n",
       "      <td>-0.203604</td>\n",
       "      <td>0.583234</td>\n",
       "      <td>-2.842137</td>\n",
       "      <td>-0.504167</td>\n",
       "      <td>0.829264</td>\n",
       "      <td>-0.752890</td>\n",
       "      <td>2.164886</td>\n",
       "      <td>-0.051979</td>\n",
       "      <td>-0.528277</td>\n",
       "      <td>...</td>\n",
       "      <td>0.576030</td>\n",
       "      <td>1.344143</td>\n",
       "      <td>0.479941</td>\n",
       "      <td>0.061963</td>\n",
       "      <td>-0.973607</td>\n",
       "      <td>0.397206</td>\n",
       "      <td>0.283271</td>\n",
       "      <td>0.334392</td>\n",
       "      <td>240.16</td>\n",
       "      <td>0</td>\n",
       "    </tr>\n",
       "    <tr>\n",
       "      <th>228124</th>\n",
       "      <td>145367.0</td>\n",
       "      <td>-0.883057</td>\n",
       "      <td>0.010202</td>\n",
       "      <td>1.271981</td>\n",
       "      <td>-1.115747</td>\n",
       "      <td>-0.515749</td>\n",
       "      <td>-0.412280</td>\n",
       "      <td>1.476644</td>\n",
       "      <td>-0.141633</td>\n",
       "      <td>0.178529</td>\n",
       "      <td>...</td>\n",
       "      <td>-0.023568</td>\n",
       "      <td>-0.443962</td>\n",
       "      <td>0.507966</td>\n",
       "      <td>-0.000979</td>\n",
       "      <td>-0.284100</td>\n",
       "      <td>-0.436244</td>\n",
       "      <td>0.036449</td>\n",
       "      <td>0.165877</td>\n",
       "      <td>238.05</td>\n",
       "      <td>0</td>\n",
       "    </tr>\n",
       "    <tr>\n",
       "      <th>31011</th>\n",
       "      <td>36174.0</td>\n",
       "      <td>1.336706</td>\n",
       "      <td>0.682405</td>\n",
       "      <td>-0.904426</td>\n",
       "      <td>0.670246</td>\n",
       "      <td>0.578866</td>\n",
       "      <td>-0.962794</td>\n",
       "      <td>0.437919</td>\n",
       "      <td>-0.302229</td>\n",
       "      <td>-0.210301</td>\n",
       "      <td>...</td>\n",
       "      <td>-0.201424</td>\n",
       "      <td>-0.485807</td>\n",
       "      <td>-0.195026</td>\n",
       "      <td>-0.548756</td>\n",
       "      <td>0.705153</td>\n",
       "      <td>0.418692</td>\n",
       "      <td>-0.027439</td>\n",
       "      <td>0.035798</td>\n",
       "      <td>0.76</td>\n",
       "      <td>0</td>\n",
       "    </tr>\n",
       "    <tr>\n",
       "      <th>275457</th>\n",
       "      <td>166542.0</td>\n",
       "      <td>-0.089938</td>\n",
       "      <td>0.511432</td>\n",
       "      <td>0.883198</td>\n",
       "      <td>-0.647320</td>\n",
       "      <td>-0.296266</td>\n",
       "      <td>-0.421553</td>\n",
       "      <td>0.408877</td>\n",
       "      <td>-0.038751</td>\n",
       "      <td>0.519104</td>\n",
       "      <td>...</td>\n",
       "      <td>-0.158415</td>\n",
       "      <td>-0.554058</td>\n",
       "      <td>0.296128</td>\n",
       "      <td>1.117239</td>\n",
       "      <td>-0.927755</td>\n",
       "      <td>0.077088</td>\n",
       "      <td>-0.260669</td>\n",
       "      <td>0.018302</td>\n",
       "      <td>41.93</td>\n",
       "      <td>0</td>\n",
       "    </tr>\n",
       "  </tbody>\n",
       "</table>\n",
       "<p>5 rows × 31 columns</p>\n",
       "</div>"
      ],
      "text/plain": [
       "            Time        V1        V2        V3        V4        V5        V6  \\\n",
       "187818  127705.0 -0.222922  0.992796 -0.339625  3.224431  2.508282  0.056531   \n",
       "221534  142600.0 -0.203604  0.583234 -2.842137 -0.504167  0.829264 -0.752890   \n",
       "228124  145367.0 -0.883057  0.010202  1.271981 -1.115747 -0.515749 -0.412280   \n",
       "31011    36174.0  1.336706  0.682405 -0.904426  0.670246  0.578866 -0.962794   \n",
       "275457  166542.0 -0.089938  0.511432  0.883198 -0.647320 -0.296266 -0.421553   \n",
       "\n",
       "              V7        V8        V9  ...       V21       V22       V23  \\\n",
       "187818  0.960217  0.016419 -2.566929  ...  0.294541  0.576026 -0.168173   \n",
       "221534  2.164886 -0.051979 -0.528277  ...  0.576030  1.344143  0.479941   \n",
       "228124  1.476644 -0.141633  0.178529  ... -0.023568 -0.443962  0.507966   \n",
       "31011   0.437919 -0.302229 -0.210301  ... -0.201424 -0.485807 -0.195026   \n",
       "275457  0.408877 -0.038751  0.519104  ... -0.158415 -0.554058  0.296128   \n",
       "\n",
       "             V24       V25       V26       V27       V28  Amount  Class  \n",
       "187818  0.210260  0.029239  0.227953  0.004877  0.059981    0.76      0  \n",
       "221534  0.061963 -0.973607  0.397206  0.283271  0.334392  240.16      0  \n",
       "228124 -0.000979 -0.284100 -0.436244  0.036449  0.165877  238.05      0  \n",
       "31011  -0.548756  0.705153  0.418692 -0.027439  0.035798    0.76      0  \n",
       "275457  1.117239 -0.927755  0.077088 -0.260669  0.018302   41.93      0  \n",
       "\n",
       "[5 rows x 31 columns]"
      ]
     },
     "execution_count": 15,
     "metadata": {},
     "output_type": "execute_result"
    }
   ],
   "source": [
    "### concating the data\n",
    "\n",
    "new_dataset=pd.concat([legit_sample,fraudulent],axis=0)\n",
    "new_dataset.head()"
   ]
  },
  {
   "cell_type": "code",
   "execution_count": 16,
   "id": "31224ed5",
   "metadata": {},
   "outputs": [
    {
     "data": {
      "text/html": [
       "<div>\n",
       "<style scoped>\n",
       "    .dataframe tbody tr th:only-of-type {\n",
       "        vertical-align: middle;\n",
       "    }\n",
       "\n",
       "    .dataframe tbody tr th {\n",
       "        vertical-align: top;\n",
       "    }\n",
       "\n",
       "    .dataframe thead th {\n",
       "        text-align: right;\n",
       "    }\n",
       "</style>\n",
       "<table border=\"1\" class=\"dataframe\">\n",
       "  <thead>\n",
       "    <tr style=\"text-align: right;\">\n",
       "      <th></th>\n",
       "      <th>Time</th>\n",
       "      <th>V1</th>\n",
       "      <th>V2</th>\n",
       "      <th>V3</th>\n",
       "      <th>V4</th>\n",
       "      <th>V5</th>\n",
       "      <th>V6</th>\n",
       "      <th>V7</th>\n",
       "      <th>V8</th>\n",
       "      <th>V9</th>\n",
       "      <th>...</th>\n",
       "      <th>V21</th>\n",
       "      <th>V22</th>\n",
       "      <th>V23</th>\n",
       "      <th>V24</th>\n",
       "      <th>V25</th>\n",
       "      <th>V26</th>\n",
       "      <th>V27</th>\n",
       "      <th>V28</th>\n",
       "      <th>Amount</th>\n",
       "      <th>Class</th>\n",
       "    </tr>\n",
       "  </thead>\n",
       "  <tbody>\n",
       "    <tr>\n",
       "      <th>279863</th>\n",
       "      <td>169142.0</td>\n",
       "      <td>-1.927883</td>\n",
       "      <td>1.125653</td>\n",
       "      <td>-4.518331</td>\n",
       "      <td>1.749293</td>\n",
       "      <td>-1.566487</td>\n",
       "      <td>-2.010494</td>\n",
       "      <td>-0.882850</td>\n",
       "      <td>0.697211</td>\n",
       "      <td>-2.064945</td>\n",
       "      <td>...</td>\n",
       "      <td>0.778584</td>\n",
       "      <td>-0.319189</td>\n",
       "      <td>0.639419</td>\n",
       "      <td>-0.294885</td>\n",
       "      <td>0.537503</td>\n",
       "      <td>0.788395</td>\n",
       "      <td>0.292680</td>\n",
       "      <td>0.147968</td>\n",
       "      <td>390.00</td>\n",
       "      <td>1</td>\n",
       "    </tr>\n",
       "    <tr>\n",
       "      <th>280143</th>\n",
       "      <td>169347.0</td>\n",
       "      <td>1.378559</td>\n",
       "      <td>1.289381</td>\n",
       "      <td>-5.004247</td>\n",
       "      <td>1.411850</td>\n",
       "      <td>0.442581</td>\n",
       "      <td>-1.326536</td>\n",
       "      <td>-1.413170</td>\n",
       "      <td>0.248525</td>\n",
       "      <td>-1.127396</td>\n",
       "      <td>...</td>\n",
       "      <td>0.370612</td>\n",
       "      <td>0.028234</td>\n",
       "      <td>-0.145640</td>\n",
       "      <td>-0.081049</td>\n",
       "      <td>0.521875</td>\n",
       "      <td>0.739467</td>\n",
       "      <td>0.389152</td>\n",
       "      <td>0.186637</td>\n",
       "      <td>0.76</td>\n",
       "      <td>1</td>\n",
       "    </tr>\n",
       "    <tr>\n",
       "      <th>280149</th>\n",
       "      <td>169351.0</td>\n",
       "      <td>-0.676143</td>\n",
       "      <td>1.126366</td>\n",
       "      <td>-2.213700</td>\n",
       "      <td>0.468308</td>\n",
       "      <td>-1.120541</td>\n",
       "      <td>-0.003346</td>\n",
       "      <td>-2.234739</td>\n",
       "      <td>1.210158</td>\n",
       "      <td>-0.652250</td>\n",
       "      <td>...</td>\n",
       "      <td>0.751826</td>\n",
       "      <td>0.834108</td>\n",
       "      <td>0.190944</td>\n",
       "      <td>0.032070</td>\n",
       "      <td>-0.739695</td>\n",
       "      <td>0.471111</td>\n",
       "      <td>0.385107</td>\n",
       "      <td>0.194361</td>\n",
       "      <td>77.89</td>\n",
       "      <td>1</td>\n",
       "    </tr>\n",
       "    <tr>\n",
       "      <th>281144</th>\n",
       "      <td>169966.0</td>\n",
       "      <td>-3.113832</td>\n",
       "      <td>0.585864</td>\n",
       "      <td>-5.399730</td>\n",
       "      <td>1.817092</td>\n",
       "      <td>-0.840618</td>\n",
       "      <td>-2.943548</td>\n",
       "      <td>-2.208002</td>\n",
       "      <td>1.058733</td>\n",
       "      <td>-1.632333</td>\n",
       "      <td>...</td>\n",
       "      <td>0.583276</td>\n",
       "      <td>-0.269209</td>\n",
       "      <td>-0.456108</td>\n",
       "      <td>-0.183659</td>\n",
       "      <td>-0.328168</td>\n",
       "      <td>0.606116</td>\n",
       "      <td>0.884876</td>\n",
       "      <td>-0.253700</td>\n",
       "      <td>245.00</td>\n",
       "      <td>1</td>\n",
       "    </tr>\n",
       "    <tr>\n",
       "      <th>281674</th>\n",
       "      <td>170348.0</td>\n",
       "      <td>1.991976</td>\n",
       "      <td>0.158476</td>\n",
       "      <td>-2.583441</td>\n",
       "      <td>0.408670</td>\n",
       "      <td>1.151147</td>\n",
       "      <td>-0.096695</td>\n",
       "      <td>0.223050</td>\n",
       "      <td>-0.068384</td>\n",
       "      <td>0.577829</td>\n",
       "      <td>...</td>\n",
       "      <td>-0.164350</td>\n",
       "      <td>-0.295135</td>\n",
       "      <td>-0.072173</td>\n",
       "      <td>-0.450261</td>\n",
       "      <td>0.313267</td>\n",
       "      <td>-0.289617</td>\n",
       "      <td>0.002988</td>\n",
       "      <td>-0.015309</td>\n",
       "      <td>42.53</td>\n",
       "      <td>1</td>\n",
       "    </tr>\n",
       "  </tbody>\n",
       "</table>\n",
       "<p>5 rows × 31 columns</p>\n",
       "</div>"
      ],
      "text/plain": [
       "            Time        V1        V2        V3        V4        V5        V6  \\\n",
       "279863  169142.0 -1.927883  1.125653 -4.518331  1.749293 -1.566487 -2.010494   \n",
       "280143  169347.0  1.378559  1.289381 -5.004247  1.411850  0.442581 -1.326536   \n",
       "280149  169351.0 -0.676143  1.126366 -2.213700  0.468308 -1.120541 -0.003346   \n",
       "281144  169966.0 -3.113832  0.585864 -5.399730  1.817092 -0.840618 -2.943548   \n",
       "281674  170348.0  1.991976  0.158476 -2.583441  0.408670  1.151147 -0.096695   \n",
       "\n",
       "              V7        V8        V9  ...       V21       V22       V23  \\\n",
       "279863 -0.882850  0.697211 -2.064945  ...  0.778584 -0.319189  0.639419   \n",
       "280143 -1.413170  0.248525 -1.127396  ...  0.370612  0.028234 -0.145640   \n",
       "280149 -2.234739  1.210158 -0.652250  ...  0.751826  0.834108  0.190944   \n",
       "281144 -2.208002  1.058733 -1.632333  ...  0.583276 -0.269209 -0.456108   \n",
       "281674  0.223050 -0.068384  0.577829  ... -0.164350 -0.295135 -0.072173   \n",
       "\n",
       "             V24       V25       V26       V27       V28  Amount  Class  \n",
       "279863 -0.294885  0.537503  0.788395  0.292680  0.147968  390.00      1  \n",
       "280143 -0.081049  0.521875  0.739467  0.389152  0.186637    0.76      1  \n",
       "280149  0.032070 -0.739695  0.471111  0.385107  0.194361   77.89      1  \n",
       "281144 -0.183659 -0.328168  0.606116  0.884876 -0.253700  245.00      1  \n",
       "281674 -0.450261  0.313267 -0.289617  0.002988 -0.015309   42.53      1  \n",
       "\n",
       "[5 rows x 31 columns]"
      ]
     },
     "execution_count": 16,
     "metadata": {},
     "output_type": "execute_result"
    }
   ],
   "source": [
    "new_dataset.tail()"
   ]
  },
  {
   "cell_type": "code",
   "execution_count": 17,
   "id": "0a2ffbd6",
   "metadata": {},
   "outputs": [
    {
     "data": {
      "text/html": [
       "<div>\n",
       "<style scoped>\n",
       "    .dataframe tbody tr th:only-of-type {\n",
       "        vertical-align: middle;\n",
       "    }\n",
       "\n",
       "    .dataframe tbody tr th {\n",
       "        vertical-align: top;\n",
       "    }\n",
       "\n",
       "    .dataframe thead th {\n",
       "        text-align: right;\n",
       "    }\n",
       "</style>\n",
       "<table border=\"1\" class=\"dataframe\">\n",
       "  <thead>\n",
       "    <tr style=\"text-align: right;\">\n",
       "      <th></th>\n",
       "      <th>Time</th>\n",
       "      <th>V1</th>\n",
       "      <th>V2</th>\n",
       "      <th>V3</th>\n",
       "      <th>V4</th>\n",
       "      <th>V5</th>\n",
       "      <th>V6</th>\n",
       "      <th>V7</th>\n",
       "      <th>V8</th>\n",
       "      <th>V9</th>\n",
       "      <th>...</th>\n",
       "      <th>V20</th>\n",
       "      <th>V21</th>\n",
       "      <th>V22</th>\n",
       "      <th>V23</th>\n",
       "      <th>V24</th>\n",
       "      <th>V25</th>\n",
       "      <th>V26</th>\n",
       "      <th>V27</th>\n",
       "      <th>V28</th>\n",
       "      <th>Amount</th>\n",
       "    </tr>\n",
       "    <tr>\n",
       "      <th>Class</th>\n",
       "      <th></th>\n",
       "      <th></th>\n",
       "      <th></th>\n",
       "      <th></th>\n",
       "      <th></th>\n",
       "      <th></th>\n",
       "      <th></th>\n",
       "      <th></th>\n",
       "      <th></th>\n",
       "      <th></th>\n",
       "      <th></th>\n",
       "      <th></th>\n",
       "      <th></th>\n",
       "      <th></th>\n",
       "      <th></th>\n",
       "      <th></th>\n",
       "      <th></th>\n",
       "      <th></th>\n",
       "      <th></th>\n",
       "      <th></th>\n",
       "      <th></th>\n",
       "    </tr>\n",
       "  </thead>\n",
       "  <tbody>\n",
       "    <tr>\n",
       "      <th>0</th>\n",
       "      <td>93562.524390</td>\n",
       "      <td>0.054129</td>\n",
       "      <td>0.008164</td>\n",
       "      <td>0.018494</td>\n",
       "      <td>-0.004783</td>\n",
       "      <td>-0.043184</td>\n",
       "      <td>-0.043656</td>\n",
       "      <td>0.055058</td>\n",
       "      <td>-0.123478</td>\n",
       "      <td>0.088811</td>\n",
       "      <td>...</td>\n",
       "      <td>0.096944</td>\n",
       "      <td>0.011650</td>\n",
       "      <td>-0.006238</td>\n",
       "      <td>0.005923</td>\n",
       "      <td>-0.006475</td>\n",
       "      <td>0.030746</td>\n",
       "      <td>-0.046511</td>\n",
       "      <td>0.025021</td>\n",
       "      <td>-0.001286</td>\n",
       "      <td>106.023577</td>\n",
       "    </tr>\n",
       "    <tr>\n",
       "      <th>1</th>\n",
       "      <td>80746.806911</td>\n",
       "      <td>-4.771948</td>\n",
       "      <td>3.623778</td>\n",
       "      <td>-7.033281</td>\n",
       "      <td>4.542029</td>\n",
       "      <td>-3.151225</td>\n",
       "      <td>-1.397737</td>\n",
       "      <td>-5.568731</td>\n",
       "      <td>0.570636</td>\n",
       "      <td>-2.581123</td>\n",
       "      <td>...</td>\n",
       "      <td>0.372319</td>\n",
       "      <td>0.713588</td>\n",
       "      <td>0.014049</td>\n",
       "      <td>-0.040308</td>\n",
       "      <td>-0.105130</td>\n",
       "      <td>0.041449</td>\n",
       "      <td>0.051648</td>\n",
       "      <td>0.170575</td>\n",
       "      <td>0.075667</td>\n",
       "      <td>122.211321</td>\n",
       "    </tr>\n",
       "  </tbody>\n",
       "</table>\n",
       "<p>2 rows × 30 columns</p>\n",
       "</div>"
      ],
      "text/plain": [
       "               Time        V1        V2        V3        V4        V5  \\\n",
       "Class                                                                   \n",
       "0      93562.524390  0.054129  0.008164  0.018494 -0.004783 -0.043184   \n",
       "1      80746.806911 -4.771948  3.623778 -7.033281  4.542029 -3.151225   \n",
       "\n",
       "             V6        V7        V8        V9  ...       V20       V21  \\\n",
       "Class                                          ...                       \n",
       "0     -0.043656  0.055058 -0.123478  0.088811  ...  0.096944  0.011650   \n",
       "1     -1.397737 -5.568731  0.570636 -2.581123  ...  0.372319  0.713588   \n",
       "\n",
       "            V22       V23       V24       V25       V26       V27       V28  \\\n",
       "Class                                                                         \n",
       "0     -0.006238  0.005923 -0.006475  0.030746 -0.046511  0.025021 -0.001286   \n",
       "1      0.014049 -0.040308 -0.105130  0.041449  0.051648  0.170575  0.075667   \n",
       "\n",
       "           Amount  \n",
       "Class              \n",
       "0      106.023577  \n",
       "1      122.211321  \n",
       "\n",
       "[2 rows x 30 columns]"
      ]
     },
     "execution_count": 17,
     "metadata": {},
     "output_type": "execute_result"
    }
   ],
   "source": [
    "new_dataset.groupby('Class').mean()"
   ]
  },
  {
   "cell_type": "code",
   "execution_count": 18,
   "id": "fe29f641",
   "metadata": {},
   "outputs": [
    {
     "data": {
      "text/plain": [
       "0    492\n",
       "1    492\n",
       "Name: Class, dtype: int64"
      ]
     },
     "execution_count": 18,
     "metadata": {},
     "output_type": "execute_result"
    }
   ],
   "source": [
    "## Know dataset balanced by under sampling randomly\n",
    "new_dataset['Class'].value_counts()"
   ]
  },
  {
   "cell_type": "markdown",
   "id": "3d93d2aa",
   "metadata": {},
   "source": [
    "## Splitting the dataset into train & test data"
   ]
  },
  {
   "cell_type": "code",
   "execution_count": 19,
   "id": "530dabc9",
   "metadata": {},
   "outputs": [],
   "source": [
    "X=new_dataset.drop(columns='Class',axis=1)\n",
    "Y=new_dataset['Class']"
   ]
  },
  {
   "cell_type": "code",
   "execution_count": 20,
   "id": "932c508e",
   "metadata": {},
   "outputs": [
    {
     "data": {
      "text/html": [
       "<div>\n",
       "<style scoped>\n",
       "    .dataframe tbody tr th:only-of-type {\n",
       "        vertical-align: middle;\n",
       "    }\n",
       "\n",
       "    .dataframe tbody tr th {\n",
       "        vertical-align: top;\n",
       "    }\n",
       "\n",
       "    .dataframe thead th {\n",
       "        text-align: right;\n",
       "    }\n",
       "</style>\n",
       "<table border=\"1\" class=\"dataframe\">\n",
       "  <thead>\n",
       "    <tr style=\"text-align: right;\">\n",
       "      <th></th>\n",
       "      <th>Time</th>\n",
       "      <th>V1</th>\n",
       "      <th>V2</th>\n",
       "      <th>V3</th>\n",
       "      <th>V4</th>\n",
       "      <th>V5</th>\n",
       "      <th>V6</th>\n",
       "      <th>V7</th>\n",
       "      <th>V8</th>\n",
       "      <th>V9</th>\n",
       "      <th>...</th>\n",
       "      <th>V20</th>\n",
       "      <th>V21</th>\n",
       "      <th>V22</th>\n",
       "      <th>V23</th>\n",
       "      <th>V24</th>\n",
       "      <th>V25</th>\n",
       "      <th>V26</th>\n",
       "      <th>V27</th>\n",
       "      <th>V28</th>\n",
       "      <th>Amount</th>\n",
       "    </tr>\n",
       "  </thead>\n",
       "  <tbody>\n",
       "    <tr>\n",
       "      <th>187818</th>\n",
       "      <td>127705.0</td>\n",
       "      <td>-0.222922</td>\n",
       "      <td>0.992796</td>\n",
       "      <td>-0.339625</td>\n",
       "      <td>3.224431</td>\n",
       "      <td>2.508282</td>\n",
       "      <td>0.056531</td>\n",
       "      <td>0.960217</td>\n",
       "      <td>0.016419</td>\n",
       "      <td>-2.566929</td>\n",
       "      <td>...</td>\n",
       "      <td>0.057268</td>\n",
       "      <td>0.294541</td>\n",
       "      <td>0.576026</td>\n",
       "      <td>-0.168173</td>\n",
       "      <td>0.210260</td>\n",
       "      <td>0.029239</td>\n",
       "      <td>0.227953</td>\n",
       "      <td>0.004877</td>\n",
       "      <td>0.059981</td>\n",
       "      <td>0.76</td>\n",
       "    </tr>\n",
       "    <tr>\n",
       "      <th>221534</th>\n",
       "      <td>142600.0</td>\n",
       "      <td>-0.203604</td>\n",
       "      <td>0.583234</td>\n",
       "      <td>-2.842137</td>\n",
       "      <td>-0.504167</td>\n",
       "      <td>0.829264</td>\n",
       "      <td>-0.752890</td>\n",
       "      <td>2.164886</td>\n",
       "      <td>-0.051979</td>\n",
       "      <td>-0.528277</td>\n",
       "      <td>...</td>\n",
       "      <td>0.216669</td>\n",
       "      <td>0.576030</td>\n",
       "      <td>1.344143</td>\n",
       "      <td>0.479941</td>\n",
       "      <td>0.061963</td>\n",
       "      <td>-0.973607</td>\n",
       "      <td>0.397206</td>\n",
       "      <td>0.283271</td>\n",
       "      <td>0.334392</td>\n",
       "      <td>240.16</td>\n",
       "    </tr>\n",
       "    <tr>\n",
       "      <th>228124</th>\n",
       "      <td>145367.0</td>\n",
       "      <td>-0.883057</td>\n",
       "      <td>0.010202</td>\n",
       "      <td>1.271981</td>\n",
       "      <td>-1.115747</td>\n",
       "      <td>-0.515749</td>\n",
       "      <td>-0.412280</td>\n",
       "      <td>1.476644</td>\n",
       "      <td>-0.141633</td>\n",
       "      <td>0.178529</td>\n",
       "      <td>...</td>\n",
       "      <td>0.375265</td>\n",
       "      <td>-0.023568</td>\n",
       "      <td>-0.443962</td>\n",
       "      <td>0.507966</td>\n",
       "      <td>-0.000979</td>\n",
       "      <td>-0.284100</td>\n",
       "      <td>-0.436244</td>\n",
       "      <td>0.036449</td>\n",
       "      <td>0.165877</td>\n",
       "      <td>238.05</td>\n",
       "    </tr>\n",
       "    <tr>\n",
       "      <th>31011</th>\n",
       "      <td>36174.0</td>\n",
       "      <td>1.336706</td>\n",
       "      <td>0.682405</td>\n",
       "      <td>-0.904426</td>\n",
       "      <td>0.670246</td>\n",
       "      <td>0.578866</td>\n",
       "      <td>-0.962794</td>\n",
       "      <td>0.437919</td>\n",
       "      <td>-0.302229</td>\n",
       "      <td>-0.210301</td>\n",
       "      <td>...</td>\n",
       "      <td>-0.000508</td>\n",
       "      <td>-0.201424</td>\n",
       "      <td>-0.485807</td>\n",
       "      <td>-0.195026</td>\n",
       "      <td>-0.548756</td>\n",
       "      <td>0.705153</td>\n",
       "      <td>0.418692</td>\n",
       "      <td>-0.027439</td>\n",
       "      <td>0.035798</td>\n",
       "      <td>0.76</td>\n",
       "    </tr>\n",
       "    <tr>\n",
       "      <th>275457</th>\n",
       "      <td>166542.0</td>\n",
       "      <td>-0.089938</td>\n",
       "      <td>0.511432</td>\n",
       "      <td>0.883198</td>\n",
       "      <td>-0.647320</td>\n",
       "      <td>-0.296266</td>\n",
       "      <td>-0.421553</td>\n",
       "      <td>0.408877</td>\n",
       "      <td>-0.038751</td>\n",
       "      <td>0.519104</td>\n",
       "      <td>...</td>\n",
       "      <td>-0.217722</td>\n",
       "      <td>-0.158415</td>\n",
       "      <td>-0.554058</td>\n",
       "      <td>0.296128</td>\n",
       "      <td>1.117239</td>\n",
       "      <td>-0.927755</td>\n",
       "      <td>0.077088</td>\n",
       "      <td>-0.260669</td>\n",
       "      <td>0.018302</td>\n",
       "      <td>41.93</td>\n",
       "    </tr>\n",
       "  </tbody>\n",
       "</table>\n",
       "<p>5 rows × 30 columns</p>\n",
       "</div>"
      ],
      "text/plain": [
       "            Time        V1        V2        V3        V4        V5        V6  \\\n",
       "187818  127705.0 -0.222922  0.992796 -0.339625  3.224431  2.508282  0.056531   \n",
       "221534  142600.0 -0.203604  0.583234 -2.842137 -0.504167  0.829264 -0.752890   \n",
       "228124  145367.0 -0.883057  0.010202  1.271981 -1.115747 -0.515749 -0.412280   \n",
       "31011    36174.0  1.336706  0.682405 -0.904426  0.670246  0.578866 -0.962794   \n",
       "275457  166542.0 -0.089938  0.511432  0.883198 -0.647320 -0.296266 -0.421553   \n",
       "\n",
       "              V7        V8        V9  ...       V20       V21       V22  \\\n",
       "187818  0.960217  0.016419 -2.566929  ...  0.057268  0.294541  0.576026   \n",
       "221534  2.164886 -0.051979 -0.528277  ...  0.216669  0.576030  1.344143   \n",
       "228124  1.476644 -0.141633  0.178529  ...  0.375265 -0.023568 -0.443962   \n",
       "31011   0.437919 -0.302229 -0.210301  ... -0.000508 -0.201424 -0.485807   \n",
       "275457  0.408877 -0.038751  0.519104  ... -0.217722 -0.158415 -0.554058   \n",
       "\n",
       "             V23       V24       V25       V26       V27       V28  Amount  \n",
       "187818 -0.168173  0.210260  0.029239  0.227953  0.004877  0.059981    0.76  \n",
       "221534  0.479941  0.061963 -0.973607  0.397206  0.283271  0.334392  240.16  \n",
       "228124  0.507966 -0.000979 -0.284100 -0.436244  0.036449  0.165877  238.05  \n",
       "31011  -0.195026 -0.548756  0.705153  0.418692 -0.027439  0.035798    0.76  \n",
       "275457  0.296128  1.117239 -0.927755  0.077088 -0.260669  0.018302   41.93  \n",
       "\n",
       "[5 rows x 30 columns]"
      ]
     },
     "execution_count": 20,
     "metadata": {},
     "output_type": "execute_result"
    }
   ],
   "source": [
    "X.head()"
   ]
  },
  {
   "cell_type": "code",
   "execution_count": 21,
   "id": "a6da618b",
   "metadata": {},
   "outputs": [
    {
     "data": {
      "text/plain": [
       "187818    0\n",
       "221534    0\n",
       "228124    0\n",
       "31011     0\n",
       "275457    0\n",
       "Name: Class, dtype: int64"
      ]
     },
     "execution_count": 21,
     "metadata": {},
     "output_type": "execute_result"
    }
   ],
   "source": [
    "Y.head()"
   ]
  },
  {
   "cell_type": "code",
   "execution_count": 22,
   "id": "29cdc3b4",
   "metadata": {},
   "outputs": [],
   "source": [
    "## splitting the dataset into train & test data\n",
    "\n",
    "from sklearn.model_selection import train_test_split\n",
    "X_train,X_test,Y_train,Y_test=train_test_split(X,Y,test_size=0.2,stratify=Y,random_state=1)"
   ]
  },
  {
   "cell_type": "code",
   "execution_count": 23,
   "id": "b044535d",
   "metadata": {},
   "outputs": [
    {
     "name": "stdout",
     "output_type": "stream",
     "text": [
      "(984, 30) (787, 30) (197, 30)\n"
     ]
    }
   ],
   "source": [
    "print(X.shape,X_train.shape,X_test.shape)"
   ]
  },
  {
   "cell_type": "markdown",
   "id": "61481f52",
   "metadata": {},
   "source": [
    "## Model Building"
   ]
  },
  {
   "cell_type": "code",
   "execution_count": 24,
   "id": "94ffbc07",
   "metadata": {},
   "outputs": [],
   "source": [
    "from sklearn.linear_model import LogisticRegression\n",
    "model=LogisticRegression()"
   ]
  },
  {
   "cell_type": "code",
   "execution_count": 25,
   "id": "1c26a006",
   "metadata": {},
   "outputs": [
    {
     "data": {
      "text/plain": [
       "LogisticRegression()"
      ]
     },
     "execution_count": 25,
     "metadata": {},
     "output_type": "execute_result"
    }
   ],
   "source": [
    "model.fit(X_train,Y_train)"
   ]
  },
  {
   "cell_type": "code",
   "execution_count": 26,
   "id": "0b4fe25b",
   "metadata": {},
   "outputs": [],
   "source": [
    "y_pred0=model.predict(X_test)"
   ]
  },
  {
   "cell_type": "markdown",
   "id": "3b229c89",
   "metadata": {},
   "source": [
    "## Model Evaluation"
   ]
  },
  {
   "cell_type": "code",
   "execution_count": 27,
   "id": "2e0803e7",
   "metadata": {},
   "outputs": [],
   "source": [
    "from sklearn import metrics"
   ]
  },
  {
   "cell_type": "code",
   "execution_count": 28,
   "id": "05bedefe",
   "metadata": {},
   "outputs": [
    {
     "name": "stdout",
     "output_type": "stream",
     "text": [
      "Accuracy_Score : 0.9086294416243654\n",
      "Classification_Report :\n",
      "               precision    recall  f1-score   support\n",
      "\n",
      "           0       0.88      0.95      0.91        98\n",
      "           1       0.95      0.87      0.91        99\n",
      "\n",
      "    accuracy                           0.91       197\n",
      "   macro avg       0.91      0.91      0.91       197\n",
      "weighted avg       0.91      0.91      0.91       197\n",
      "\n",
      "Confusion_Matrix :\n",
      " [[93  5]\n",
      " [13 86]]\n"
     ]
    }
   ],
   "source": [
    "### model evaluation for test data\n",
    "\n",
    "print(\"Accuracy_Score :\",metrics.accuracy_score(Y_test,y_pred0))\n",
    "print(\"Classification_Report :\\n\",metrics.classification_report(Y_test,y_pred0))\n",
    "print('Confusion_Matrix :\\n',metrics.confusion_matrix(Y_test,y_pred0))"
   ]
  },
  {
   "cell_type": "code",
   "execution_count": 29,
   "id": "be7c73d9",
   "metadata": {},
   "outputs": [],
   "source": [
    "y_pred=model.predict(X_train)"
   ]
  },
  {
   "cell_type": "code",
   "execution_count": 30,
   "id": "027ff312",
   "metadata": {},
   "outputs": [
    {
     "name": "stdout",
     "output_type": "stream",
     "text": [
      "Accuracy_Score : 0.9313850063532402\n",
      "Classification_Report :\n",
      "               precision    recall  f1-score   support\n",
      "\n",
      "           0       0.90      0.97      0.93       394\n",
      "           1       0.97      0.89      0.93       393\n",
      "\n",
      "    accuracy                           0.93       787\n",
      "   macro avg       0.93      0.93      0.93       787\n",
      "weighted avg       0.93      0.93      0.93       787\n",
      "\n",
      "Confusion_Matrix :\n",
      " [[382  12]\n",
      " [ 42 351]]\n"
     ]
    }
   ],
   "source": [
    "### model evaluation for training data\n",
    "\n",
    "print(\"Accuracy_Score :\",metrics.accuracy_score(Y_train,y_pred))\n",
    "print(\"Classification_Report :\\n\",metrics.classification_report(Y_train,y_pred))\n",
    "print('Confusion_Matrix :\\n',metrics.confusion_matrix(Y_train,y_pred))"
   ]
  },
  {
   "cell_type": "markdown",
   "id": "d70d5588",
   "metadata": {},
   "source": [
    "# Hyper Parameter for Logistic Regression "
   ]
  },
  {
   "cell_type": "markdown",
   "id": "ab458b35",
   "metadata": {},
   "source": [
    "#\n",
    "Logistic regression does have not really have any critical hyperparameters to tune.\n",
    "\n",
    "Sometime few of them are imp. which can inhace the performance\n",
    "\n",
    "->solver in [‘newton-cg’, ‘lbfgs’, ‘liblinear’, ‘sag’, ‘saga’]\n",
    "\n",
    "->penalty in [‘none’, ‘l1’, ‘l2’, ‘elasticnet’]\n",
    "\n",
    "->C in [100, 10, 1.0, 0.1, 0.01] C parameter controls the penality strength, which can also be effective\n",
    "\n",
    "for all parameter of Logistic Regession :https://scikit-learn.org/stable/modules/generated/sklearn.linear_model.LogisticRegression.html"
   ]
  },
  {
   "cell_type": "code",
   "execution_count": 31,
   "id": "e7c85d13",
   "metadata": {},
   "outputs": [],
   "source": [
    "from sklearn.model_selection import GridSearchCV\n",
    "from sklearn.model_selection import RandomizedSearchCV"
   ]
  },
  {
   "cell_type": "code",
   "execution_count": 32,
   "id": "a072f6f7",
   "metadata": {},
   "outputs": [],
   "source": [
    "#defining the parametres:\n",
    "\n",
    "solvers=['newton-cg','lbfgs','liblinear','sag','saga']\n",
    "penalty=['l1','l2','elasticnet']\n",
    "c_values=[100,10,1.0,0.1,0.001]"
   ]
  },
  {
   "cell_type": "markdown",
   "id": "4b21b2c3",
   "metadata": {},
   "source": [
    "### GridSearchCV Hyperparameter"
   ]
  },
  {
   "cell_type": "code",
   "execution_count": 33,
   "id": "c1604604",
   "metadata": {},
   "outputs": [],
   "source": [
    "grid=dict(solver=solvers,penalty=penalty,C=c_values)\n",
    "grid_search =GridSearchCV(estimator=model,param_grid=grid,n_jobs=-1,cv=5,scoring='accuracy',error_score=0,verbose=1)"
   ]
  },
  {
   "cell_type": "code",
   "execution_count": 34,
   "id": "e630b7cd",
   "metadata": {},
   "outputs": [
    {
     "name": "stdout",
     "output_type": "stream",
     "text": [
      "Fitting 5 folds for each of 75 candidates, totalling 375 fits\n"
     ]
    },
    {
     "data": {
      "text/plain": [
       "GridSearchCV(cv=5, error_score=0, estimator=LogisticRegression(), n_jobs=-1,\n",
       "             param_grid={'C': [100, 10, 1.0, 0.1, 0.001],\n",
       "                         'penalty': ['l1', 'l2', 'elasticnet'],\n",
       "                         'solver': ['newton-cg', 'lbfgs', 'liblinear', 'sag',\n",
       "                                    'saga']},\n",
       "             scoring='accuracy', verbose=1)"
      ]
     },
     "execution_count": 34,
     "metadata": {},
     "output_type": "execute_result"
    }
   ],
   "source": [
    "grid=grid_search.fit(X_train,Y_train)\n",
    "grid"
   ]
  },
  {
   "cell_type": "code",
   "execution_count": 35,
   "id": "95833aa1",
   "metadata": {},
   "outputs": [
    {
     "name": "stdout",
     "output_type": "stream",
     "text": [
      "Best: 0.950464 using {'C': 1.0, 'penalty': 'l1', 'solver': 'liblinear'}\n"
     ]
    }
   ],
   "source": [
    "print(\"Best: %f using %s\" % (grid.best_score_, grid.best_params_))"
   ]
  },
  {
   "cell_type": "markdown",
   "id": "435eef66",
   "metadata": {},
   "source": [
    "### RandomSearchCV"
   ]
  },
  {
   "cell_type": "code",
   "execution_count": 36,
   "id": "ee2636a6",
   "metadata": {},
   "outputs": [],
   "source": [
    "random=dict(solver=solvers,penalty=penalty,C=c_values)\n",
    "random_search=RandomizedSearchCV(estimator=model,param_distributions=random,n_iter=5,scoring='accuracy',n_jobs=-1,random_state=1,error_score=0,cv=10,verbose=1)"
   ]
  },
  {
   "cell_type": "code",
   "execution_count": 37,
   "id": "399c5315",
   "metadata": {},
   "outputs": [
    {
     "name": "stdout",
     "output_type": "stream",
     "text": [
      "Fitting 10 folds for each of 5 candidates, totalling 50 fits\n"
     ]
    },
    {
     "name": "stderr",
     "output_type": "stream",
     "text": [
      "C:\\ProgramData\\Anaconda3\\lib\\site-packages\\sklearn\\linear_model\\_sag.py:328: ConvergenceWarning: The max_iter was reached which means the coef_ did not converge\n",
      "  warnings.warn(\"The max_iter was reached which means \"\n"
     ]
    },
    {
     "data": {
      "text/plain": [
       "RandomizedSearchCV(cv=10, error_score=0, estimator=LogisticRegression(),\n",
       "                   n_iter=5, n_jobs=-1,\n",
       "                   param_distributions={'C': [100, 10, 1.0, 0.1, 0.001],\n",
       "                                        'penalty': ['l1', 'l2', 'elasticnet'],\n",
       "                                        'solver': ['newton-cg', 'lbfgs',\n",
       "                                                   'liblinear', 'sag',\n",
       "                                                   'saga']},\n",
       "                   random_state=1, scoring='accuracy', verbose=1)"
      ]
     },
     "execution_count": 37,
     "metadata": {},
     "output_type": "execute_result"
    }
   ],
   "source": [
    "random_cv=random_search.fit(X_train,Y_train)\n",
    "random_cv"
   ]
  },
  {
   "cell_type": "code",
   "execution_count": 38,
   "id": "bc792e4f",
   "metadata": {},
   "outputs": [
    {
     "name": "stdout",
     "output_type": "stream",
     "text": [
      "Best: 0.501899 using {'solver': 'saga', 'penalty': 'l1', 'C': 10}\n"
     ]
    }
   ],
   "source": [
    "print(\"Best: %f using %s\" % (random_cv.best_score_, random_cv.best_params_))"
   ]
  },
  {
   "cell_type": "markdown",
   "id": "63c541dd",
   "metadata": {},
   "source": [
    "### Using best parameter of GrindSearchCV and RandomSearchCV to build model"
   ]
  },
  {
   "cell_type": "code",
   "execution_count": 39,
   "id": "1c2bd90a",
   "metadata": {
    "scrolled": true
   },
   "outputs": [
    {
     "name": "stderr",
     "output_type": "stream",
     "text": [
      "C:\\ProgramData\\Anaconda3\\lib\\site-packages\\scipy\\optimize\\linesearch.py:478: LineSearchWarning: The line search algorithm did not converge\n",
      "  warn('The line search algorithm did not converge', LineSearchWarning)\n",
      "C:\\ProgramData\\Anaconda3\\lib\\site-packages\\scipy\\optimize\\linesearch.py:327: LineSearchWarning: The line search algorithm did not converge\n",
      "  warn('The line search algorithm did not converge', LineSearchWarning)\n",
      "C:\\ProgramData\\Anaconda3\\lib\\site-packages\\scipy\\optimize\\linesearch.py:478: LineSearchWarning: The line search algorithm did not converge\n",
      "  warn('The line search algorithm did not converge', LineSearchWarning)\n",
      "C:\\ProgramData\\Anaconda3\\lib\\site-packages\\scipy\\optimize\\linesearch.py:327: LineSearchWarning: The line search algorithm did not converge\n",
      "  warn('The line search algorithm did not converge', LineSearchWarning)\n",
      "C:\\ProgramData\\Anaconda3\\lib\\site-packages\\scipy\\optimize\\linesearch.py:478: LineSearchWarning: The line search algorithm did not converge\n",
      "  warn('The line search algorithm did not converge', LineSearchWarning)\n",
      "C:\\ProgramData\\Anaconda3\\lib\\site-packages\\scipy\\optimize\\linesearch.py:327: LineSearchWarning: The line search algorithm did not converge\n",
      "  warn('The line search algorithm did not converge', LineSearchWarning)\n",
      "C:\\ProgramData\\Anaconda3\\lib\\site-packages\\scipy\\optimize\\linesearch.py:478: LineSearchWarning: The line search algorithm did not converge\n",
      "  warn('The line search algorithm did not converge', LineSearchWarning)\n",
      "C:\\ProgramData\\Anaconda3\\lib\\site-packages\\scipy\\optimize\\linesearch.py:327: LineSearchWarning: The line search algorithm did not converge\n",
      "  warn('The line search algorithm did not converge', LineSearchWarning)\n",
      "C:\\ProgramData\\Anaconda3\\lib\\site-packages\\sklearn\\utils\\optimize.py:202: ConvergenceWarning: newton-cg failed to converge. Increase the number of iterations.\n",
      "  warnings.warn(\"newton-cg failed to converge. Increase the \"\n"
     ]
    },
    {
     "data": {
      "text/plain": [
       "LogisticRegression(C=0.1, solver='newton-cg')"
      ]
     },
     "execution_count": 39,
     "metadata": {},
     "output_type": "execute_result"
    }
   ],
   "source": [
    "grid_model=LogisticRegression(C=0.1, penalty='l2', solver='newton-cg')\n",
    "grid_model.fit(X_train,Y_train)"
   ]
  },
  {
   "cell_type": "code",
   "execution_count": 40,
   "id": "f3beea93",
   "metadata": {},
   "outputs": [],
   "source": [
    "y_pred1=grid_model.predict(X_test)"
   ]
  },
  {
   "cell_type": "code",
   "execution_count": 41,
   "id": "ca9a41be",
   "metadata": {
    "scrolled": true
   },
   "outputs": [
    {
     "name": "stdout",
     "output_type": "stream",
     "text": [
      "Accuracy_Score : 0.9441624365482234\n",
      "Classification_Report :\n",
      "               precision    recall  f1-score   support\n",
      "\n",
      "           0       0.91      0.99      0.95        98\n",
      "           1       0.99      0.90      0.94        99\n",
      "\n",
      "    accuracy                           0.94       197\n",
      "   macro avg       0.95      0.94      0.94       197\n",
      "weighted avg       0.95      0.94      0.94       197\n",
      "\n",
      "Confusion_Matrix :\n",
      " [[97  1]\n",
      " [10 89]]\n"
     ]
    }
   ],
   "source": [
    "### model evaluation for test data\n",
    "\n",
    "print(\"Accuracy_Score :\",metrics.accuracy_score(Y_test,y_pred1))\n",
    "print(\"Classification_Report :\\n\",metrics.classification_report(Y_test,y_pred1))\n",
    "print('Confusion_Matrix :\\n',metrics.confusion_matrix(Y_test,y_pred1))"
   ]
  },
  {
   "cell_type": "code",
   "execution_count": 42,
   "id": "83d872dc",
   "metadata": {},
   "outputs": [],
   "source": [
    "y_pred2=grid_model.predict(X_train)"
   ]
  },
  {
   "cell_type": "code",
   "execution_count": 43,
   "id": "7cd8bebd",
   "metadata": {},
   "outputs": [
    {
     "name": "stdout",
     "output_type": "stream",
     "text": [
      "Accuracy_Score : 0.9542566709021602\n",
      "Classification_Report :\n",
      "               precision    recall  f1-score   support\n",
      "\n",
      "           0       0.93      0.99      0.96       394\n",
      "           1       0.99      0.92      0.95       393\n",
      "\n",
      "    accuracy                           0.95       787\n",
      "   macro avg       0.96      0.95      0.95       787\n",
      "weighted avg       0.96      0.95      0.95       787\n",
      "\n",
      "Confusion_Matrix :\n",
      " [[389   5]\n",
      " [ 31 362]]\n"
     ]
    }
   ],
   "source": [
    "### model evaluation for training data\n",
    "\n",
    "print(\"Accuracy_Score :\",metrics.accuracy_score(Y_train,y_pred2))\n",
    "print(\"Classification_Report :\\n\",metrics.classification_report(Y_train,y_pred2))\n",
    "print('Confusion_Matrix :\\n',metrics.confusion_matrix(Y_train,y_pred2))"
   ]
  },
  {
   "cell_type": "code",
   "execution_count": 44,
   "id": "97122e8f",
   "metadata": {},
   "outputs": [
    {
     "name": "stderr",
     "output_type": "stream",
     "text": [
      "[Parallel(n_jobs=1)]: Using backend SequentialBackend with 1 concurrent workers.\n",
      "C:\\ProgramData\\Anaconda3\\lib\\site-packages\\sklearn\\linear_model\\_sag.py:328: ConvergenceWarning: The max_iter was reached which means the coef_ did not converge\n",
      "  warnings.warn(\"The max_iter was reached which means \"\n"
     ]
    },
    {
     "name": "stdout",
     "output_type": "stream",
     "text": [
      "max_iter reached after 0 seconds\n"
     ]
    },
    {
     "name": "stderr",
     "output_type": "stream",
     "text": [
      "[Parallel(n_jobs=1)]: Done   1 out of   1 | elapsed:    0.1s finished\n"
     ]
    },
    {
     "data": {
      "text/plain": [
       "LogisticRegression(C=10, penalty='l1', solver='saga', verbose=1)"
      ]
     },
     "execution_count": 44,
     "metadata": {},
     "output_type": "execute_result"
    }
   ],
   "source": [
    "random_model=LogisticRegression(solver= 'saga', penalty= 'l1', C=10,verbose=1)\n",
    "random_model.fit(X_train,Y_train)"
   ]
  },
  {
   "cell_type": "code",
   "execution_count": 45,
   "id": "f2479cb6",
   "metadata": {},
   "outputs": [
    {
     "name": "stdout",
     "output_type": "stream",
     "text": [
      "Accuracy_Score : 0.9441624365482234\n",
      "Classification_Report :\n",
      "               precision    recall  f1-score   support\n",
      "\n",
      "           0       0.91      0.99      0.95        98\n",
      "           1       0.99      0.90      0.94        99\n",
      "\n",
      "    accuracy                           0.94       197\n",
      "   macro avg       0.95      0.94      0.94       197\n",
      "weighted avg       0.95      0.94      0.94       197\n",
      "\n",
      "Confusion_Matrix :\n",
      " [[97  1]\n",
      " [10 89]]\n"
     ]
    }
   ],
   "source": [
    "### model evaluation for test data\n",
    "\n",
    "y_pred3=grid_model.predict(X_test)\n",
    "\n",
    "print(\"Accuracy_Score :\",metrics.accuracy_score(Y_test,y_pred3))\n",
    "print(\"Classification_Report :\\n\",metrics.classification_report(Y_test,y_pred3))\n",
    "print('Confusion_Matrix :\\n',metrics.confusion_matrix(Y_test,y_pred3))"
   ]
  },
  {
   "cell_type": "code",
   "execution_count": 46,
   "id": "365bc1ab",
   "metadata": {},
   "outputs": [
    {
     "name": "stdout",
     "output_type": "stream",
     "text": [
      "Accuracy_Score : 0.9542566709021602\n",
      "Classification_Report :\n",
      "               precision    recall  f1-score   support\n",
      "\n",
      "           0       0.93      0.99      0.96       394\n",
      "           1       0.99      0.92      0.95       393\n",
      "\n",
      "    accuracy                           0.95       787\n",
      "   macro avg       0.96      0.95      0.95       787\n",
      "weighted avg       0.96      0.95      0.95       787\n",
      "\n",
      "Confusion_Matrix :\n",
      " [[389   5]\n",
      " [ 31 362]]\n"
     ]
    }
   ],
   "source": [
    "### model evaluation for training data\n",
    "\n",
    "y_pred4=grid_model.predict(X_train)\n",
    "\n",
    "print(\"Accuracy_Score :\",metrics.accuracy_score(Y_train,y_pred4))\n",
    "print(\"Classification_Report :\\n\",metrics.classification_report(Y_train,y_pred4))\n",
    "print('Confusion_Matrix :\\n',metrics.confusion_matrix(Y_train,y_pred4))"
   ]
  },
  {
   "cell_type": "markdown",
   "id": "681c00c4",
   "metadata": {},
   "source": [
    "### comparing accuracy of model to finalize the model"
   ]
  },
  {
   "cell_type": "code",
   "execution_count": 47,
   "id": "1b5c6923",
   "metadata": {},
   "outputs": [
    {
     "name": "stdout",
     "output_type": "stream",
     "text": [
      "Accuracy_Score of general model of logistic : 0.9313850063532402\n",
      "Accuracy_Score of general model of logistic : 0.9086294416243654\n",
      "Accuracy_Score of grid model of logistic : 0.9542566709021602\n",
      "Accuracy_Score of grid model of logistic : 0.9441624365482234\n",
      "Accuracy_Score of random model of logistic : 0.9542566709021602\n",
      "Accuracy_Score of random model of logistic : 0.9441624365482234\n"
     ]
    }
   ],
   "source": [
    "print(\"Accuracy_Score of general model of logistic :\",metrics.accuracy_score(Y_train,y_pred))\n",
    "print(\"Accuracy_Score of general model of logistic :\",metrics.accuracy_score(Y_test,y_pred0))\n",
    "print(\"Accuracy_Score of grid model of logistic :\",metrics.accuracy_score(Y_train,y_pred2))\n",
    "print(\"Accuracy_Score of grid model of logistic :\",metrics.accuracy_score(Y_test,y_pred1))\n",
    "print(\"Accuracy_Score of random model of logistic :\",metrics.accuracy_score(Y_train,y_pred4))\n",
    "print(\"Accuracy_Score of random model of logistic :\",metrics.accuracy_score(Y_test,y_pred3))"
   ]
  },
  {
   "cell_type": "markdown",
   "id": "2fed0d14",
   "metadata": {},
   "source": [
    "### Accuracy of the model  is increased  by hyper parameter tuning and got stable model also"
   ]
  },
  {
   "cell_type": "code",
   "execution_count": 48,
   "id": "d99c7ee6",
   "metadata": {},
   "outputs": [],
   "source": [
    "##saving the finalized model\n",
    "import pickle\n",
    "\n",
    "with open(\"model.pkl\", \"wb\") as f:\n",
    "    pickle.dump(grid_model, f)\n"
   ]
  }
 ],
 "metadata": {
  "kernelspec": {
   "display_name": "Python 3",
   "language": "python",
   "name": "python3"
  },
  "language_info": {
   "codemirror_mode": {
    "name": "ipython",
    "version": 3
   },
   "file_extension": ".py",
   "mimetype": "text/x-python",
   "name": "python",
   "nbconvert_exporter": "python",
   "pygments_lexer": "ipython3",
   "version": "3.8.8"
  }
 },
 "nbformat": 4,
 "nbformat_minor": 5
}
